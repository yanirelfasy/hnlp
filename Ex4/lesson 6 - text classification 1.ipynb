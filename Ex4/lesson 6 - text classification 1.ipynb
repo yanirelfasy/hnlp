{
 "cells": [
  {
   "cell_type": "code",
   "execution_count": 1,
   "metadata": {},
   "outputs": [],
   "source": [
    "import pandas as pd\n",
    "import numpy as np\n",
    "from pathlib import Path\n",
    "%matplotlib inline\n",
    "import seaborn as sns\n",
    "from sklearn.feature_extraction.text import CountVectorizer\n",
    "from sklearn.feature_extraction.text import TfidfTransformer\n",
    "from evaluate_sentiment import Evaluator\n",
    "np.random.seed(42)\n",
    "from sklearn.pipeline import Pipeline\n",
    "from sklearn.naive_bayes import MultinomialNB\n",
    "%load_ext autoreload\n",
    "%autoreload 2"
   ]
  },
  {
   "cell_type": "markdown",
   "metadata": {},
   "source": [
    "# Data Exploration"
   ]
  },
  {
   "cell_type": "code",
   "execution_count": 2,
   "metadata": {},
   "outputs": [
    {
     "name": "stdout",
     "output_type": "stream",
     "text": [
      "<class 'pandas.core.frame.DataFrame'>\n",
      "RangeIndex: 5932 entries, 0 to 5931\n",
      "Data columns (total 2 columns):\n",
      "comment    5932 non-null object\n",
      "label      5932 non-null category\n",
      "dtypes: category(1), object(1)\n",
      "memory usage: 52.4+ KB\n",
      "None\n"
     ]
    }
   ],
   "source": [
    "data_root=Path(\"../data/Hebrew-Sentiment-Data/Sentiment_Data\")\n",
    "token_folder=data_root/\"token\"\n",
    "morph_folder=data_root/\"morph\"\n",
    "# train_path=token_folder/\"train.tsv\"\n",
    "# test_path=token_folder/\"test_gold.tsv\"\n",
    "train_path=morph_folder/\"train.tsv\"\n",
    "test_path=morph_folder/\"test_gold.tsv\"\n",
    "train_df=pd.read_csv(train_path, encoding=\"utf-8\", sep=\"\\t\")\n",
    "train_df.loc[:, \"label\"]=train_df.label.astype(\"category\")\n",
    "test_df=pd.read_csv(test_path, encoding=\"utf-8\", sep=\"\\t\")\n",
    "test_df.loc[:, \"label\"]=test_df.label.astype(\"category\")\n",
    "text=train_df[\"comment\"]\n",
    "print(train_df.info())"
   ]
  },
  {
   "cell_type": "code",
   "execution_count": 68,
   "metadata": {},
   "outputs": [
    {
     "name": "stdout",
     "output_type": "stream",
     "text": [
      "                                               comment label\n",
      "47   חייבים לעשות סוג של חרם כש כתבים שונאי ישראל ע...     2\n",
      "69   אז אתה בא ? https://www.facebook.com/events/15...     2\n",
      "73    גאי אתה טיפש מטופש ילד כאפות ש לא חונך על ברכ...     2\n",
      "105  ש מעון יפרח העלאתי בשביל אתה את דבריו של שמעון...     2\n",
      "168  רובי ריבלין ה נשיא ה עשירי תחזית ש ניתנה לפני ...     2\n"
     ]
    }
   ],
   "source": [
    "print(train_df.query(\"label==2\").head())"
   ]
  },
  {
   "cell_type": "code",
   "execution_count": 3,
   "metadata": {},
   "outputs": [
    {
     "name": "stdout",
     "output_type": "stream",
     "text": [
      "0    4024\n",
      "1    1744\n",
      "2     164\n",
      "Name: label, dtype: int64\n",
      "0    0.678355\n",
      "1    0.293999\n",
      "2    0.027647\n",
      "Name: label, dtype: float64\n"
     ]
    },
    {
     "data": {
      "text/plain": [
       "<matplotlib.axes._subplots.AxesSubplot at 0x1eb49b31708>"
      ]
     },
     "execution_count": 3,
     "metadata": {},
     "output_type": "execute_result"
    },
    {
     "data": {
      "image/png": "[encoded data removed]",
      "text/plain": [
       "<Figure size 432x288 with 1 Axes>"
      ]
     },
     "metadata": {
      "needs_background": "light"
     },
     "output_type": "display_data"
    }
   ],
   "source": [
    "tot=len(train_df)\n",
    "print(train_df.label.value_counts())\n",
    "print(train_df.label.value_counts()/tot)\n",
    "sns.distplot(train_df.label, kde=False)"
   ]
  },
  {
   "cell_type": "code",
   "execution_count": 32,
   "metadata": {},
   "outputs": [
    {
     "data": {
      "text/plain": [
       "(5932, 88276)"
      ]
     },
     "execution_count": 32,
     "metadata": {},
     "output_type": "execute_result"
    }
   ],
   "source": [
    "count_vect = CountVectorizer(ngram_range=(1,2))\n",
    "X_train_counts = count_vect.fit_transform(train_df.comment)\n",
    "X_train_counts.shape"
   ]
  },
  {
   "cell_type": "code",
   "execution_count": 33,
   "metadata": {},
   "outputs": [
    {
     "data": {
      "text/plain": [
       "(1696, 88276)"
      ]
     },
     "execution_count": 33,
     "metadata": {},
     "output_type": "execute_result"
    }
   ],
   "source": [
    "X_test_counts = count_vect.transform(test_df.comment)\n",
    "X_test_counts.shape"
   ]
  },
  {
   "cell_type": "code",
   "execution_count": 34,
   "metadata": {},
   "outputs": [
    {
     "data": {
      "text/plain": [
       "78195"
      ]
     },
     "execution_count": 34,
     "metadata": {},
     "output_type": "execute_result"
    }
   ],
   "source": [
    "count_vect.vocabulary_.get('רובי')"
   ]
  },
  {
   "cell_type": "code",
   "execution_count": 35,
   "metadata": {},
   "outputs": [
    {
     "data": {
      "text/plain": [
       "2704"
      ]
     },
     "execution_count": 35,
     "metadata": {},
     "output_type": "execute_result"
    }
   ],
   "source": [
    "count_vect.vocabulary_.get('או')"
   ]
  },
  {
   "cell_type": "code",
   "execution_count": 36,
   "metadata": {},
   "outputs": [
    {
     "data": {
      "text/plain": [
       "(5932, 88276)"
      ]
     },
     "execution_count": 36,
     "metadata": {},
     "output_type": "execute_result"
    }
   ],
   "source": [
    "tf_transformer = TfidfTransformer(use_idf=False).fit(X_train_counts)\n",
    "X_train_tf = tf_transformer.transform(X_train_counts)\n",
    "X_train_tf.shape"
   ]
  },
  {
   "cell_type": "code",
   "execution_count": 37,
   "metadata": {},
   "outputs": [],
   "source": [
    "# X_test_tfidf = tf_transformer.transform(X_test_counts)"
   ]
  },
  {
   "cell_type": "markdown",
   "metadata": {},
   "source": [
    "# Benchmarks"
   ]
  },
  {
   "cell_type": "code",
   "execution_count": 38,
   "metadata": {},
   "outputs": [
    {
     "name": "stdout",
     "output_type": "stream",
     "text": [
      "test_df has 1696 rows\n"
     ]
    }
   ],
   "source": [
    "evaluator=Evaluator()"
   ]
  },
  {
   "cell_type": "markdown",
   "metadata": {},
   "source": [
    "# Simplest - majority classifier"
   ]
  },
  {
   "cell_type": "code",
   "execution_count": 39,
   "metadata": {},
   "outputs": [
    {
     "name": "stdout",
     "output_type": "stream",
     "text": [
      "1696\n",
      "Micro precision:0.7871462264150944, recall:0.7871462264150944, f1:0.7871462264150944\n",
      "Macro precision:0.2623820754716981, recall:0.3333333333333333, f1:0.2936324645331574\n",
      "Accuracy: 0.7871462264150944\n",
      "[[1335    0    0]\n",
      " [ 316    0    0]\n",
      " [  45    0    0]]\n"
     ]
    },
    {
     "name": "stderr",
     "output_type": "stream",
     "text": [
      "C:\\Users\\fyuva\\Anaconda3\\envs\\hebnlp\\lib\\site-packages\\sklearn\\metrics\\_classification.py:1245: UndefinedMetricWarning: Precision is ill-defined and being set to 0.0 in labels with no predicted samples. Use `zero_division` parameter to control this behavior.\n",
      "  _warn_prf(average, modifier, msg_start, len(result))\n"
     ]
    }
   ],
   "source": [
    "predicted_maj = len(test_df)*[0]\n",
    "print(len(test_df))\n",
    "evaluator.evaluate(predicted_maj)"
   ]
  },
  {
   "cell_type": "markdown",
   "metadata": {},
   "source": [
    "# Throw a die classifier"
   ]
  },
  {
   "cell_type": "code",
   "execution_count": 40,
   "metadata": {},
   "outputs": [],
   "source": [
    "def get_die_value():\n",
    "    cur_val=np.random.rand()\n",
    "    if cur_val<0.66:\n",
    "        return 0\n",
    "    elif cur_val<0.96:\n",
    "        return 1\n",
    "    else:\n",
    "        return 2"
   ]
  },
  {
   "cell_type": "code",
   "execution_count": 43,
   "metadata": {},
   "outputs": [
    {
     "name": "stdout",
     "output_type": "stream",
     "text": [
      "[1, 0, 1, 0, 0, 1, 1, 1, 0, 1]\n"
     ]
    }
   ],
   "source": [
    "die_predicted=[get_die_value() for _ in range(len(test_df))]\n",
    "print(die_predicted[:10])"
   ]
  },
  {
   "cell_type": "code",
   "execution_count": 44,
   "metadata": {},
   "outputs": [
    {
     "name": "stdout",
     "output_type": "stream",
     "text": [
      "Micro precision:0.5754716981132075, recall:0.5754716981132075, f1:0.5754716981132075\n",
      "Macro precision:0.33140398122185705, recall:0.33128078298751035, f1:0.32511893176563395\n",
      "Accuracy: 0.5754716981132075\n",
      "[[883 386  66]\n",
      " [214  91  11]\n",
      " [ 31  12   2]]\n"
     ]
    }
   ],
   "source": [
    "evaluator.evaluate(die_predicted)"
   ]
  },
  {
   "cell_type": "code",
   "execution_count": 45,
   "metadata": {},
   "outputs": [],
   "source": [
    "def get_hebrew_stopwords():\n",
    "    stop_path=\"../data/heb_stopwords.txt\"\n",
    "    with open(stop_path, encoding=\"utf-8\") as in_file:\n",
    "        lines=in_file.readlines()\n",
    "        res=[l.strip() for l in lines]\n",
    "        print(res[:4])\n",
    "    return res"
   ]
  },
  {
   "cell_type": "code",
   "execution_count": 71,
   "metadata": {},
   "outputs": [
    {
     "name": "stdout",
     "output_type": "stream",
     "text": [
      "['את', 'לא', 'של', 'אני']\n",
      "Micro precision:0.8714622641509434, recall:0.8714622641509434, f1:0.8714622641509434\n",
      "Macro precision:0.8673749741928312, recall:0.565948945674447, f1:0.5893603592085568\n",
      "Accuracy: 0.8714622641509434\n",
      "[[1265   70    0]\n",
      " [ 107  209    0]\n",
      " [  18   23    4]]\n",
      "overall, there are 70 instances with wrong sentiment\n",
      "גם לא ל ה אולמרט ו שאר ה מושחתים ., true:0, predicted:1\n",
      "\n",
      " יהודי , זה מיגבן רב של אנשים , ש קוראים ל אצמם יהודים , ו הם יהודים טובים , ישראלים טובים , אוהאבי ישדאל ו ה עם ה יהודי , אוהבי ה מדינה ש הם חיים ב היא , ו זה לא עומר ש הם חייבים לשאת 24 שעות ב יממה את את ה מחשבה ש הם בני ישראל ש יצאו מ מיצרים ו זה לא עומר ש הם חייבים ל ימחוק כול מי ש חושב אחרת . ב ארצות חוץ ל ה ארץ אנחנו מבקשים זכויות שוות , ל ה יהודים , ו מקבלים את הם . ה אמונה צריכה ל יהיות ב ליבינו , ו להתנהג ב ה חברה כ בן אנוש . אם ה אמונה חזקה , ו אם אנחנו בני אנוש , של שנות 2000 , שום דבר לא יכול ל יבגוע , או להרוס את ה אמונה ה יהודית . , true:0, predicted:1\n",
      "\n",
      " תביא שלום ו מהר בלי תירוצים . זה מה ש צריך נשיא מדינה לעשות למען כולם : עשירים , עניים , יהודים , ערבים דרוזים , שומרי מצוות ו אלה ש פחות ( יש גם חילוניים אדוני ה נשיא ה נבחר הם חלק מ כולם כדאי ש תדע להגיד את ה מילה ) ו עוד כל אלו ש הזכרת . , true:0, predicted:1\n",
      "\n",
      "אני הייתי רוצה להאמין ש הם רטצים ב שלום אחרי ש יפסיקו לחנך ילדים ו גם ב בית ספר ש ה מטרה היא להרוג את אנחנו אז תהיה ל אני מידה של אמונה ש זוהי ה דרך כי כל עוד ש מ חנכעם את ה ילדים מגי קטן ביותר להרוג אז אין סיכוכ ל שום דבר יש שנאה כלפי אנחנו מ גיל קטן ו קשה יהיה לעקור את זה כל עוד הפ ממשיכים עם זה ו אני מבינה ש יש אזרחים ש ל הם ש זה לא מה ש הם היו רוצים ש הם רוצים שלום ה ללואי שאלה יהווהאת ה רוב ו יהיה סיכוי טוב ל ה שקט ו ל פריחה משני ה צדדים, true:0, predicted:1\n",
      "\n",
      " לכבוד : ה נשיא : מר : ראובן ( רובי ) ריבלין . אדוני ה נכבד ו איש יקר !!!! ל תחילתו של מכתבי אאחל ל אתה הצלחה מרובה ו מועילה בתוך תכופת כהונתך עלה ו ה צלח אדוני ה יקר אם נותר ל אתה זמן אנה עיין נא בן שורות ה כתוב ו תפנים את ה רשום תבין את ה עובר על ה עם ש ל מענו נבחרתה דע איש יקר כי ל עמך עצוב ל אנחנו כאן על כמה סבל ו עדין ימשיכו בני עמך לסבול על ידי בני עוולה מה נומר ל אתה ידידי אנו תפילה כי תצלח דרכך רק דברים חשובים יש את ליבנו להאיר את ענייך ! כמה עוד ניתן ו כמה עוד נבליג ? אני אמא . בת . ו אחות . ל נפגעי טרור . ו שכול . כמה יקירי עלנו לתת ל משחירי שמנו . ב ה עולם ש ל קם ה גדול הם מבני עמנו ... האם ה החריב את את ו מ הרסייך מ ימך יצאו ? ה על כך מושתת מדינתנו ? אנה עצור זאת בבקשה מאחר ו ה מחרחרים הם מתוך אנחנו האם לא נעלה את הם ל דין ? להביאם ל דין על ניצול ה דמוקרטיה ל רעה על הסטה ל רצח יהודים ב ה ארץ ו ב ה עולם ... על השחרת פני ה אומה ה יהודית ב ה ארץ ב גולה . ידיים יהודיות עושות זאת ו אנו עדיין מבליגים אדוני אדוני ה יקר הרי מ ימים ימימה עני ה גויים נשואות אל אנחנו ... ו לצערנו הגויים ב ימים טרופים אלה שנאתם גוברת ו קמים הם על אנחנו להשמידנו כי רואים הם ש מתוך אנחנו  \" ה נקראים אחינו \" \" ב מרכאות ... הם ה קמים על אנחנו ... כ פרצה ה קורא ל ה גנב ... אנו בני עמך ישראל בחרנו ב אתם כולכם ו לא מן ה סתם גם נבחרתם .. ראו כי ה כול מאת ה' הועלתם ל ה שלטון , , , נבחרתם כדי להנהיג להושיע את ה עם ה זה ... אך דעו ל אתם כי אם ו לא יעשה סוף ל ה אלה ל ה בוזזים ו ה מחרחרים ו ה מביאים ל חיסולו של עם ישראל ו החל מ אלה ה מכנים את עצמם שמאל הזוי ה קורה ל רצח ה עם ו כן עושקי ה עם ו תינתן לזלזל ב ביטחונו של ה עם ב ה ארץ , , , דע ל אתה אחי ה יקר אל תאחר כי ה' אלוקי אבותינו אברהם יצחק ו יעקב ישלח ה ישועה ל עמנו מ מקום אחר כי לא יחריש ה' כי אל נקמות ו הוא יבוא עמכם ב משפט .. ו את כול מי ש יישאר אדיש ל גזרות ה נוחתות על עמנו ... כי הוא הראשון להיפגע מ חמתו של ה' <  הרי אדוני ה יקר יהודי ... ו מכיר את ה כתוב ב מגילת אסתר , את היא אנו קוראים מדי שנה ב שנה . ו יואמר מרדכי אל אסתר על גזרת ה מן , ו יוסף להגיד ל היא אל תדמי ב נפשך להימלט בית ה מלך מ כל ה יהודים .... כי אם ה חרש תחרישי ב עת ה זאת רווח ו הצלה יעמד ל ה יהודים מ מקום אחר ... ו את ו בית אביך תאבדו ... ו מי יודע אם ל עת כ ה זאת ( לשם כך ) הגעת ל מלכות .. > ב טוחני כי אתה אדוני אדם ש מאמין הרי אתה צאצא של משפחת יהודית ו לא תתכחש ל שארית ב שרך ..... ו אנו מאמינים כי ירא אלוקים אתה אנה עמוד על משמרתך ו היה מושיע ל עמך ו ה' יהיה ב עזרך אמן אנה ה עבר את ה מסר ל ה אלה ה יושבים על כיסאות ה שלטון ו משחקים, true:0, predicted:1\n",
      "\n",
      "לא שמאלני ו לא נעליים !!! הוא נשיא מדינת ישראל ו הוא מחויב ל טובת ה ציבור זה ש יש אנשים חסרי חיים ש באים להפריע ל ה זוג ש רוצה להתחתן אז יש ל אתם בעיה קשה ב ה חיים של אתם, true:0, predicted:1\n",
      "\n",
      "יוסי ה אסטרולוג . אם אתה באמת אסטרולוג היית צריך לדעת ש הוא עסוק, true:0, predicted:1\n",
      "\n",
      "לא מטיל ב אתה ספק . אבל מה בדיוק ה עבודה של אתה בתור נשיא .? ו האם אפשר ש תעלה ל משלם ה מיסים פחות מ 63 מליון שח ב שנה, true:0, predicted:1\n",
      "\n",
      "אימא של אתי עוברת את הוא ., true:0, predicted:1\n",
      "\n",
      "גם אני קיווה את היא ש אני לא התחרט . חחה ., true:0, predicted:1\n",
      "\n"
     ]
    }
   ],
   "source": [
    "\"\"\"\n",
    "basic pipe:\n",
    "a. whitespace\n",
    "b. remove stopwords\n",
    "c. unigrams\n",
    "d. no tf/idf\n",
    "e. no feature selection\n",
    "f. naive bayes\n",
    "\"\"\"\n",
    "from sklearn.linear_model import LogisticRegression\n",
    "from sklearn.ensemble import RandomForestClassifier\n",
    "from sklearn.feature_selection import SelectKBest\n",
    "from sklearn.feature_selection import chi2, mutual_info_classif\n",
    "\n",
    "heb_stop_words=get_hebrew_stopwords()\n",
    "#count_vectorizer=CountVectorizer(stop_words=heb_stop_words)\n",
    "count_vectorizer=CountVectorizer(ngram_range=(1,2))\n",
    "transformer=TfidfTransformer()\n",
    "algo=LogisticRegression()\n",
    "pipe = Pipeline([('vectorizer', count_vectorizer),\n",
    "                 ('transformer', transformer),\n",
    "                 #('feature_select', SelectKBest(chi2, k=20000)),\n",
    "                 ('algo', algo)])\n",
    "pipe.fit(train_df.comment, train_df.label)\n",
    "predicted = pipe.predict(test_df.comment)\n",
    "evaluator.evaluate(predicted)\n",
    "evaluator.show_errors(predicted, 10,1)"
   ]
  },
  {
   "cell_type": "markdown",
   "metadata": {},
   "source": [
    "# Naive Bayes Classifier"
   ]
  },
  {
   "cell_type": "code",
   "execution_count": 72,
   "metadata": {},
   "outputs": [
    {
     "name": "stdout",
     "output_type": "stream",
     "text": [
      "overall, there are 107 instances with wrong sentiment\n",
      " עד מתי , ה לב קרוע על ה ילדים , ו ה משפחות , !!!!!!!!!! , true:1, predicted:0\n",
      "\n",
      " אכן , בין בוגרי ה פקולטה ה נ\"ל אנשים ש עיצבו את אמות ה מידה ה ציבוריות ב ה ארץ . למשל , היה שם איזה אחד , אולי שמעתם על הוא , קוראים ל הוא אהוד אולמרט ... , true:1, predicted:0\n",
      "\n",
      " אם זוהי דמותו של נשיא מדינת ישראל ( ??? ) אז אפשר לומר ש היא די עלובה ... אדם חסר עמוד שידרה ו גאווה ב יהדותו ו מוצאו , עוד ענף תלוש ה מצטרף לאותם יפי ( חולי ) נפש . , true:1, predicted:0\n",
      "\n",
      "תודה ל אתה נשיאנו על ה חיזוק ל התבוללות ו ניתוק מ ה שורשים עכשיו אני מבין למה ביבי לא רצה ב אתה . הוא מכיר את אתה יותר טוב מ אזרחי ה מדיה, true:1, predicted:0\n",
      "\n",
      " ל שלושת ה משפחות נותר חלל ב ליבם , ו כך גם ל כל עם ישראל . , true:1, predicted:0\n",
      "\n",
      "תעשה ל אני טובה אל תגרום לקלל את אתה אז עדיף ש תסתום, true:1, predicted:0\n",
      "\n",
      "נשיא-רובי ראש מ משלה-ביבי אופוזיציה - בוז ׳ י ביטחון - בוגי יו ״ ר כנסת - יורי ו כולם שמים על אנחנו - זובי !, true:1, predicted:0\n",
      "\n",
      "אויש נו . אל תהיו תמימים ., true:1, predicted:0\n",
      "\n",
      "תוותר על ה כסף ה גדול תצא יותר גדול . מוסד מבוזבז, true:1, predicted:0\n",
      "\n",
      "אני מעריך את ריבלין אבל יש לזכור ש הוא כל כך הרבה שנים ב כנסת ו הוא נושא ב אחריות ל היתדרדרת ה מדינה מנותקים מ יהעם לגמרי חיים ב פלנטה אחרת, true:1, predicted:0\n",
      "\n"
     ]
    }
   ],
   "source": [
    "evaluator.show_errors(predicted, 10,1)"
   ]
  },
  {
   "cell_type": "code",
   "execution_count": 56,
   "metadata": {},
   "outputs": [
    {
     "name": "stdout",
     "output_type": "stream",
     "text": [
      "[[-0.20445617 -0.17885735 -0.08121911 ... -0.09968619 -0.05270076\n",
      "  -0.05270076]\n",
      " [ 0.131126    0.09055906  0.08997523 ...  0.10846646 -0.04816097\n",
      "  -0.04816097]\n",
      " [ 0.07333017  0.08829829 -0.00875612 ... -0.00878027  0.10086173\n",
      "   0.10086173]]\n"
     ]
    }
   ],
   "source": [
    "maprint(pipe[\"algo\"].coef_)"
   ]
  },
  {
   "cell_type": "code",
   "execution_count": 57,
   "metadata": {},
   "outputs": [
    {
     "name": "stdout",
     "output_type": "stream",
     "text": [
      "00\n",
      "אלימות\n"
     ]
    }
   ],
   "source": [
    "inverse_dict={count_vect.vocabulary_[w]:w for w in count_vect.vocabulary_.keys()}\n",
    "print(inverse_dict[0])\n",
    "print(inverse_dict[7111])"
   ]
  },
  {
   "cell_type": "code",
   "execution_count": 58,
   "metadata": {},
   "outputs": [],
   "source": [
    "def get_strongest_words(label):\n",
    "    cur_coef=pipe[\"algo\"].coef_[label]\n",
    "    word_df=pd.DataFrame({\"val\":cur_coef}).reset_index().sort_values([\"val\"],ascending=[False])\n",
    "    word_df.loc[:, \"word\"]=word_df[\"index\"].apply(lambda v:inverse_dict[v])\n",
    "    print(word_df.head(10))"
   ]
  },
  {
   "cell_type": "code",
   "execution_count": null,
   "metadata": {},
   "outputs": [],
   "source": [
    "\n",
    "clf = MultinomialNB().fit(X_train_tf, train_df.label)"
   ]
  },
  {
   "cell_type": "code",
   "execution_count": null,
   "metadata": {},
   "outputs": [],
   "source": [
    "predicted = clf.predict(X_test_tfidf)"
   ]
  },
  {
   "cell_type": "code",
   "execution_count": null,
   "metadata": {},
   "outputs": [],
   "source": [
    "print(predicted[:5])"
   ]
  },
  {
   "cell_type": "code",
   "execution_count": null,
   "metadata": {},
   "outputs": [],
   "source": [
    "evaluator.evaluate(predicted)"
   ]
  },
  {
   "cell_type": "markdown",
   "metadata": {},
   "source": [
    "# Logistic Regression Classifier"
   ]
  },
  {
   "cell_type": "code",
   "execution_count": null,
   "metadata": {},
   "outputs": [],
   "source": [
    "from sklearn.linear_model import LogisticRegression\n",
    "clf=LogisticRegression().fit(X_train_tf, train_df.label)"
   ]
  },
  {
   "cell_type": "code",
   "execution_count": null,
   "metadata": {},
   "outputs": [],
   "source": [
    "logistic_predicted=clf.predict(X_test_tfidf)\n",
    "evaluator.evaluate(logistic_predicted)"
   ]
  },
  {
   "cell_type": "code",
   "execution_count": null,
   "metadata": {},
   "outputs": [],
   "source": [
    "evaluator.show_errors(logistic_predicted, 10)"
   ]
  },
  {
   "cell_type": "code",
   "execution_count": null,
   "metadata": {},
   "outputs": [],
   "source": [
    "print(clf.coef_)"
   ]
  },
  {
   "cell_type": "code",
   "execution_count": null,
   "metadata": {},
   "outputs": [],
   "source": [
    "inverse_dict={count_vect.vocabulary_[w]:w for w in count_vect.vocabulary_.keys()}\n",
    "print(inverse_dict[0])\n",
    "print(inverse_dict[7111])"
   ]
  },
  {
   "cell_type": "code",
   "execution_count": null,
   "metadata": {},
   "outputs": [],
   "source": [
    "def get_strongest_words(label):\n",
    "    cur_coef=clf.coef_[label]\n",
    "    word_df=pd.DataFrame({\"val\":cur_coef}).reset_index().sort_values([\"val\"],ascending=[False])\n",
    "    word_df.loc[:, \"word\"]=word_df[\"index\"].apply(lambda v:inverse_dict[v])\n",
    "    print(word_df.head(10))"
   ]
  },
  {
   "cell_type": "code",
   "execution_count": 63,
   "metadata": {},
   "outputs": [
    {
     "name": "stdout",
     "output_type": "stream",
     "text": [
      "       index       val   word\n",
      "25857  25857  4.671619  הצלחה\n",
      "65087  65087  2.265333   נשיא\n",
      "45886  45886  2.105294     לב\n",
      "40645  40645  1.959779   כבוד\n",
      "6078    6078  1.906511    איש\n",
      "7766    7766  1.839619    אמן\n",
      "85054  85054  1.836667   תודה\n",
      "77230  77230  1.830808   ראוי\n",
      "2242    2242  1.772221    אדם\n",
      "82409  82409  1.608058   שלום\n"
     ]
    }
   ],
   "source": [
    "get_strongest_words(0)"
   ]
  },
  {
   "cell_type": "code",
   "execution_count": 64,
   "metadata": {},
   "outputs": [
    {
     "name": "stdout",
     "output_type": "stream",
     "text": [
      "       index       val      word\n",
      "44436  44436  3.361517        לא\n",
      "26782  26782  3.152505  התבוללות\n",
      "52875  52875  2.351035        מה\n",
      "34700  34700  2.306299     יהודי\n",
      "71542  71542  2.135128     ערבים\n",
      "14009  14009  2.043635      בושה\n",
      "71376  71376  1.950154      ערבי\n",
      "35039  35039  1.718142    יהודים\n",
      "27996  27996  1.670672        זה\n",
      "88032  88032  1.558756    תתבייש\n"
     ]
    }
   ],
   "source": [
    "get_strongest_words(1)"
   ]
  },
  {
   "cell_type": "code",
   "execution_count": 65,
   "metadata": {},
   "outputs": [
    {
     "name": "stdout",
     "output_type": "stream",
     "text": [
      "       index       val          word\n",
      "17311  17311  1.908261           גאי\n",
      "1504    1504  1.806050           www\n",
      "806      806  1.647688           com\n",
      "1010    1010  1.413700         https\n",
      "1012    1012  1.311112     https www\n",
      "839      839  1.139920            d7\n",
      "913      913  0.956254  facebook com\n",
      "912      912  0.956254      facebook\n",
      "56700  56700  0.859743      ממאריבור\n",
      "6496    6496  0.859743           אכי\n"
     ]
    }
   ],
   "source": [
    "get_strongest_words(2)"
   ]
  },
  {
   "cell_type": "code",
   "execution_count": null,
   "metadata": {},
   "outputs": [],
   "source": [
    "count_vect = CountVectorizer(ngram_range=(1,2))\n",
    "X_train_counts = count_vect.fit_transform(train_df.comment)\n",
    "X_train_counts.shape"
   ]
  },
  {
   "cell_type": "code",
   "execution_count": null,
   "metadata": {},
   "outputs": [],
   "source": [
    "tf_transformer = TfidfTransformer(use_idf=False).fit(X_train_counts)\n",
    "X_train_tf = tf_transformer.transform(X_train_counts)\n",
    "X_train_tf.shape"
   ]
  },
  {
   "cell_type": "code",
   "execution_count": null,
   "metadata": {},
   "outputs": [],
   "source": [
    "X_test_counts = count_vect.transform(test_df.comment)\n",
    "X_test_counts.shape"
   ]
  },
  {
   "cell_type": "code",
   "execution_count": null,
   "metadata": {},
   "outputs": [],
   "source": [
    "X_test_tfidf = tf_transformer.transform(X_test_counts)"
   ]
  },
  {
   "cell_type": "code",
   "execution_count": null,
   "metadata": {},
   "outputs": [],
   "source": [
    "clf=LogisticRegression().fit(X_train_tf, train_df.label)"
   ]
  },
  {
   "cell_type": "code",
   "execution_count": null,
   "metadata": {},
   "outputs": [],
   "source": [
    "logistic_predicted=clf.predict(X_test_tfidf)\n",
    "evaluator.evaluate(logistic_predicted)"
   ]
  },
  {
   "cell_type": "code",
   "execution_count": null,
   "metadata": {},
   "outputs": [],
   "source": [
    "from sklearn.feature_selection import SelectKBest\n",
    "from sklearn.feature_selection import chi2\n",
    "X_new = SelectKBest(chi2, k=10000).fit_transform(X_train_tf, train_df.label)\n",
    "print(X_new.shape)\n",
    "clf=LogisticRegression().fit(X_new, train_df.label)\n"
   ]
  },
  {
   "cell_type": "markdown",
   "metadata": {},
   "source": [
    "# Random Forest Classifier"
   ]
  },
  {
   "cell_type": "code",
   "execution_count": null,
   "metadata": {},
   "outputs": [],
   "source": [
    "from sklearn.ensemble import RandomForestClassifier\n",
    "clf = RandomForestClassifier().fit(X_train_tf, train_df.label)\n"
   ]
  },
  {
   "cell_type": "code",
   "execution_count": null,
   "metadata": {},
   "outputs": [],
   "source": [
    "rf_prediction=clf.predict(X_test_tfidf)\n",
    "evaluator.evaluate(rf_prediction)"
   ]
  },
  {
   "cell_type": "markdown",
   "metadata": {},
   "source": [
    "# Once again, with bigrams"
   ]
  },
  {
   "cell_type": "code",
   "execution_count": null,
   "metadata": {},
   "outputs": [],
   "source": []
  }
 ],
 "metadata": {
  "kernelspec": {
   "display_name": "hebnlp",
   "language": "python",
   "name": "hebnlp"
  },
  "language_info": {
   "codemirror_mode": {
    "name": "ipython",
    "version": 3
   },
   "file_extension": ".py",
   "mimetype": "text/x-python",
   "name": "python",
   "nbconvert_exporter": "python",
   "pygments_lexer": "ipython3",
   "version": "3.7.4"
  }
 },
 "nbformat": 4,
 "nbformat_minor": 2
}

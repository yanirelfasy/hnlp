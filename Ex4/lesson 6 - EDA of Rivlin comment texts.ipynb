{
 "cells": [
  {
   "cell_type": "code",
   "execution_count": 1,
   "metadata": {},
   "outputs": [],
   "source": [
    "import pandas as pd\n",
    "import numpy as np\n",
    "from pathlib import Path\n",
    "%matplotlib inline\n",
    "import seaborn as sns"
   ]
  },
  {
   "cell_type": "markdown",
   "metadata": {},
   "source": [
    "# Data Exploration"
   ]
  },
  {
   "cell_type": "code",
   "execution_count": 2,
   "metadata": {
    "scrolled": true
   },
   "outputs": [
    {
     "name": "stdout",
     "output_type": "stream",
     "text": [
      "<class 'pandas.core.frame.DataFrame'>\n",
      "RangeIndex: 5926 entries, 0 to 5925\n",
      "Data columns (total 2 columns):\n",
      "comment    5926 non-null object\n",
      "label      5926 non-null category\n",
      "dtypes: category(1), object(1)\n",
      "memory usage: 52.3+ KB\n",
      "None\n"
     ]
    }
   ],
   "source": [
    "data_root=Path(\"../data/Hebrew-Sentiment-Data/Sentiment_Data\")\n",
    "token_folder=data_root/\"token\"\n",
    "morph_folder=data_root/\"morph\"\n",
    "train_path=token_folder/\"train.tsv\"\n",
    "test_path=token_folder/\"test_gold.tsv\"\n",
    "train_df=pd.read_csv(train_path, encoding=\"utf-8\", sep=\"\\t\")\n",
    "train_df.loc[:, \"label\"]=train_df.label.astype(\"category\")\n",
    "test_df=pd.read_csv(test_path, encoding=\"utf-8\", sep=\"\\t\")\n",
    "test_df.loc[:, \"label\"]=test_df.label.astype(\"category\")\n",
    "text=train_df[\"comment\"]\n",
    "print(train_df.info())"
   ]
  },
  {
   "cell_type": "code",
   "execution_count": 3,
   "metadata": {},
   "outputs": [
    {
     "name": "stdout",
     "output_type": "stream",
     "text": [
      "0    4017\n",
      "1    1744\n",
      "2     165\n",
      "Name: label, dtype: int64\n",
      "0    0.677860\n",
      "1    0.294296\n",
      "2    0.027843\n",
      "Name: label, dtype: float64\n"
     ]
    },
    {
     "data": {
      "text/plain": [
       "<matplotlib.axes._subplots.AxesSubplot at 0x24ae30941c8>"
      ]
     },
     "execution_count": 3,
     "metadata": {},
     "output_type": "execute_result"
    },
    {
     "data": {
      "image/png": "[encoded data removed]",
      "text/plain": [
       "<Figure size 432x288 with 1 Axes>"
      ]
     },
     "metadata": {
      "needs_background": "light"
     },
     "output_type": "display_data"
    }
   ],
   "source": [
    "tot=len(train_df)\n",
    "print(train_df.label.value_counts())\n",
    "print(train_df.label.value_counts()/tot)\n",
    "sns.distplot(train_df.label, kde=False)"
   ]
  },
  {
   "cell_type": "code",
   "execution_count": 4,
   "metadata": {},
   "outputs": [],
   "source": [
    "def plot_character_length_histogram(text):\n",
    "    text.str.len().\\\n",
    "        hist(range=(0,2000))"
   ]
  },
  {
   "cell_type": "code",
   "execution_count": 5,
   "metadata": {},
   "outputs": [
    {
     "data": {
      "image/png": "[encoded data removed]",
      "text/plain": [
       "<Figure size 432x288 with 1 Axes>"
      ]
     },
     "metadata": {
      "needs_background": "light"
     },
     "output_type": "display_data"
    }
   ],
   "source": [
    "plot_character_length_histogram(train_df.comment)"
   ]
  },
  {
   "cell_type": "code",
   "execution_count": 6,
   "metadata": {},
   "outputs": [],
   "source": [
    "def plot_word_number_histogram(text):\n",
    "    text.str.split().\\\n",
    "        map(lambda x: len(x)).\\\n",
    "        hist(range=(0,300))"
   ]
  },
  {
   "cell_type": "code",
   "execution_count": 7,
   "metadata": {},
   "outputs": [
    {
     "data": {
      "image/png": "[encoded data removed]",
      "text/plain": [
       "<Figure size 432x288 with 1 Axes>"
      ]
     },
     "metadata": {
      "needs_background": "light"
     },
     "output_type": "display_data"
    }
   ],
   "source": [
    "plot_word_number_histogram(train_df.comment)"
   ]
  },
  {
   "cell_type": "markdown",
   "metadata": {},
   "source": [
    "tot=len(test_df)\n",
    "print(test_df.label.value_counts())\n",
    "print(test_df.label.value_counts()/tot)"
   ]
  },
  {
   "cell_type": "code",
   "execution_count": 8,
   "metadata": {},
   "outputs": [],
   "source": [
    "def get_hebrew_stopwords():\n",
    "    stop_path=\"../data/heb_stopwords.txt\"\n",
    "    with open(stop_path, encoding=\"utf-8\") as in_file:\n",
    "        lines=in_file.readlines()\n",
    "        res=[l.strip() for l in lines]\n",
    "        print(res[:4])\n",
    "    return res"
   ]
  },
  {
   "cell_type": "code",
   "execution_count": 9,
   "metadata": {},
   "outputs": [],
   "source": [
    "def invert_words(words):\n",
    "    return [w[::-1] for w in words]"
   ]
  },
  {
   "cell_type": "code",
   "execution_count": 10,
   "metadata": {},
   "outputs": [
    {
     "name": "stdout",
     "output_type": "stream",
     "text": [
      "['את', 'לא', 'של', 'אני']\n"
     ]
    }
   ],
   "source": [
    "stop=get_hebrew_stopwords()"
   ]
  },
  {
   "cell_type": "code",
   "execution_count": 11,
   "metadata": {},
   "outputs": [],
   "source": [
    "import seaborn as sns\n",
    "#from nltk.corpus import stopwords\n",
    "from collections import  Counter\n",
    "\n",
    "def plot_top_non_stopwords_barchart(text, stop):\n",
    "    #stop=set(get_hebrew_stopwords())\n",
    "    \n",
    "    new= text.str.split()\n",
    "    new=new.values.tolist()\n",
    "    corpus=[word for i in new for word in i]\n",
    "\n",
    "    counter=Counter(corpus)\n",
    "    most=counter.most_common()\n",
    "    x, y=[], []\n",
    "    for word,count in most[:50]:\n",
    "        if (len(word)>1 and word not in stop):\n",
    "            x.append(word)\n",
    "            y.append(count)\n",
    "            \n",
    "    sns.barplot(x=y,y=invert_words(x))"
   ]
  },
  {
   "cell_type": "code",
   "execution_count": 12,
   "metadata": {},
   "outputs": [
    {
     "data": {
      "image/png": "[encoded data removed]",
      "text/plain": [
       "<Figure size 432x288 with 1 Axes>"
      ]
     },
     "metadata": {
      "needs_background": "light"
     },
     "output_type": "display_data"
    }
   ],
   "source": [
    "plot_top_non_stopwords_barchart(text, stop)"
   ]
  },
  {
   "cell_type": "code",
   "execution_count": 13,
   "metadata": {},
   "outputs": [
    {
     "name": "stdout",
     "output_type": "stream",
     "text": [
      "                                             comment label\n",
      "0  ממש כואב ..... אני בוכה עם המשפחה שלא תדעו עוד...     0\n",
      "1                              כל הכבוד והמון בהצלחה     0\n",
      "2   תל חי , רובי . בכל העצב הזה היית קרן אור של ת...     0\n",
      "3                 נקי כפיים ובר לבב בהצלחה לך ולנו .     0\n",
      "4               רובי חג שמח והצלחה בבחירות לנשיאות .     0\n"
     ]
    }
   ],
   "source": [
    "print(train_df[train_df.label==0].head())"
   ]
  },
  {
   "cell_type": "code",
   "execution_count": 14,
   "metadata": {},
   "outputs": [
    {
     "name": "stdout",
     "output_type": "stream",
     "text": [
      "                                              comment label\n",
      "8   אדוני הנשיא סליחה על הבוטות תפסיק לזיין את השכ...     1\n",
      "10                   ואני עוד חשבתי שהגיע נשיא נורמלי     1\n",
      "11  נשיא המדינה הלבן והמנותק חכם בדיבורים . הוא לא...     1\n",
      "13   רובי ריבלין היקר !! אתה איש משפחה לא ???.. מע...     1\n",
      "15           עוד לא שבוע בתפקיד וכבר שכחת מאיפה באת ?     1\n"
     ]
    }
   ],
   "source": [
    "print(train_df[train_df.label==1].head())"
   ]
  },
  {
   "cell_type": "code",
   "execution_count": 15,
   "metadata": {},
   "outputs": [
    {
     "name": "stdout",
     "output_type": "stream",
     "text": [
      "                                               comment label\n",
      "46   חייבים לעשות סוג של חרם כשכתבים שונאי ישראל עו...     2\n",
      "68   אז אתה בא ? https://www.facebook.com/events/15...     2\n",
      "72    גאי אתה טיפש מטופש ילד כאפות שלא חונך על ברכי...     2\n",
      "104  שמעון יפרח העלאתי בשבילך את דבריו של שמעון פרס...     2\n",
      "167  רובי ריבלין הנשיא העשירי תחזית שניתנה לפני הבח...     2\n"
     ]
    }
   ],
   "source": [
    "print(train_df[train_df.label==2].head())"
   ]
  },
  {
   "cell_type": "markdown",
   "metadata": {},
   "source": [
    "# Positive top words"
   ]
  },
  {
   "cell_type": "code",
   "execution_count": 16,
   "metadata": {},
   "outputs": [
    {
     "data": {
      "image/png": "[encoded data removed]",
      "text/plain": [
       "<Figure size 432x288 with 1 Axes>"
      ]
     },
     "metadata": {
      "needs_background": "light"
     },
     "output_type": "display_data"
    }
   ],
   "source": [
    "plot_top_non_stopwords_barchart(train_df[train_df.label==0].comment, stop)"
   ]
  },
  {
   "cell_type": "markdown",
   "metadata": {},
   "source": [
    "# Negative top words"
   ]
  },
  {
   "cell_type": "code",
   "execution_count": 17,
   "metadata": {},
   "outputs": [
    {
     "data": {
      "image/png": "[encoded data removed]",
      "text/plain": [
       "<Figure size 432x288 with 1 Axes>"
      ]
     },
     "metadata": {
      "needs_background": "light"
     },
     "output_type": "display_data"
    }
   ],
   "source": [
    "plot_top_non_stopwords_barchart(train_df[train_df.label==1].comment, stop)"
   ]
  },
  {
   "cell_type": "markdown",
   "metadata": {},
   "source": [
    "# Neutral top words"
   ]
  },
  {
   "cell_type": "code",
   "execution_count": 18,
   "metadata": {},
   "outputs": [
    {
     "data": {
      "image/png": "[encoded data removed]",
      "text/plain": [
       "<Figure size 432x288 with 1 Axes>"
      ]
     },
     "metadata": {
      "needs_background": "light"
     },
     "output_type": "display_data"
    }
   ],
   "source": [
    "plot_top_non_stopwords_barchart(train_df[train_df.label==2].comment, stop)"
   ]
  },
  {
   "cell_type": "markdown",
   "metadata": {},
   "source": [
    "# Data makeup\n",
    "* 0 - positive comments (66%)\n",
    "* 1 - negative comments (30%)\n",
    "* 2 - neutral comments (3%)\n",
    "\n",
    "80% of the data is in the train subset and 20% is in the test subset"
   ]
  },
  {
   "cell_type": "markdown",
   "metadata": {},
   "source": [
    "# Let's add an identifier to the test rows"
   ]
  },
  {
   "cell_type": "code",
   "execution_count": 81,
   "metadata": {},
   "outputs": [
    {
     "name": "stdout",
     "output_type": "stream",
     "text": [
      "   index                                               text  label\n",
      "0      0   שמע ישראל , השם ישמור ויקרא הגורל = ( י.ק.ו.ק...      0\n",
      "1      1                             איחולי הצלחה בתפקידך .      0\n",
      "2      2                                       כל הכבוד !!!      0\n",
      "3      3   בוקר טוב ישראל בוקר טוב לכבוד נשיא מדינת ישרא...      0\n",
      "4      4  איפה הגינוי ? http://www.iba.org.il/bet/bet.as...      1\n"
     ]
    }
   ],
   "source": [
    "test_df.reset_index(inplace=True)\n",
    "print(test_df.head())"
   ]
  },
  {
   "cell_type": "code",
   "execution_count": null,
   "metadata": {},
   "outputs": [],
   "source": []
  }
 ],
 "metadata": {
  "kernelspec": {
   "display_name": "hebnlp",
   "language": "python",
   "name": "hebnlp"
  },
  "language_info": {
   "codemirror_mode": {
    "name": "ipython",
    "version": 3
   },
   "file_extension": ".py",
   "mimetype": "text/x-python",
   "name": "python",
   "nbconvert_exporter": "python",
   "pygments_lexer": "ipython3",
   "version": "3.7.4"
  }
 },
 "nbformat": 4,
 "nbformat_minor": 2
}

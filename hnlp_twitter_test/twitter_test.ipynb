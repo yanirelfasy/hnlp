{
 "metadata": {
  "language_info": {
   "codemirror_mode": {
    "name": "ipython",
    "version": 3
   },
   "file_extension": ".py",
   "mimetype": "text/x-python",
   "name": "python",
   "nbconvert_exporter": "python",
   "pygments_lexer": "ipython3",
   "version": "3.6.8"
  },
  "orig_nbformat": 2,
  "kernelspec": {
   "name": "python368jvsc74a57bd0b1411b1b95c1bf0479e3d7cdc7e102371516c7735698e266ce38042d8c148f2e",
   "display_name": "Python 3.6.8 64-bit"
  }
 },
 "nbformat": 4,
 "nbformat_minor": 2,
 "cells": [
  {
   "cell_type": "code",
   "execution_count": 3,
   "metadata": {},
   "outputs": [],
   "source": [
    "import tweepy\n",
    "import pandas as pd\n",
    "import csv\n",
    "import re \n",
    "import string\n",
    "import preprocessor as p"
   ]
  },
  {
   "cell_type": "code",
   "execution_count": 4,
   "metadata": {},
   "outputs": [],
   "source": [
    "consumer_key=\"18GgtxgXKtFNClpxb7iore84G\"\n",
    "consumer_secret=\"RzqoSkUi5919JWYY2hew6WpTtEXah2PJLOvDwkMFlJfcpS9lgO\"\n",
    "access_token_key=\"1393585869026697216-HYA8QxK0ShrF9r1mUwzyfm1mqm5Imn\"\n",
    "access_token_secret=\"h4fVbzG4SgK8yqAL6d18QP4IEEvLyuevEashyprrkfdAp\""
   ]
  },
  {
   "cell_type": "code",
   "execution_count": 5,
   "metadata": {},
   "outputs": [],
   "source": [
    "auth = tweepy.OAuthHandler(consumer_key, consumer_secret)\n",
    "auth.set_access_token(access_token_key, access_token_secret)\n",
    "api = tweepy.API(auth,wait_on_rate_limit=True)"
   ]
  },
  {
   "cell_type": "code",
   "execution_count": 23,
   "metadata": {},
   "outputs": [
    {
     "output_type": "stream",
     "name": "stdout",
     "text": [
      "netanyahu DONE!\n",
      "meravmichaelijs DONE!\n",
      "naftalibennett DONE!\n",
      "tamarzandberg DONE!\n",
      "yairlapid DONE!\n",
      "ayelet__shaked DONE!\n",
      "AvigdorLiberman DONE!\n",
      "regev_miri DONE!\n",
      "Orly_levy DONE!\n",
      "NitzanHorowitz DONE!\n",
      "netanyahu DONE!\n",
      "meravmichaelijs DONE!\n",
      "naftalibennett DONE!\n",
      "tamarzandberg DONE!\n",
      "yairlapid DONE!\n",
      "ayelet__shaked DONE!\n",
      "AvigdorLiberman DONE!\n",
      "regev_miri DONE!\n",
      "Orly_levy DONE!\n",
      "NitzanHorowitz DONE!\n",
      "netanyahu DONE!\n",
      "meravmichaelijs DONE!\n",
      "naftalibennett DONE!\n",
      "tamarzandberg DONE!\n",
      "yairlapid DONE!\n",
      "ayelet__shaked DONE!\n",
      "AvigdorLiberman DONE!\n",
      "regev_miri DONE!\n",
      "Orly_levy DONE!\n",
      "NitzanHorowitz DONE!\n",
      "netanyahu DONE!\n",
      "meravmichaelijs DONE!\n",
      "naftalibennett DONE!\n",
      "tamarzandberg DONE!\n",
      "yairlapid DONE!\n",
      "ayelet__shaked DONE!\n",
      "AvigdorLiberman DONE!\n",
      "regev_miri DONE!\n",
      "Orly_levy DONE!\n",
      "NitzanHorowitz DONE!\n",
      "netanyahu DONE!\n",
      "meravmichaelijs DONE!\n",
      "naftalibennett DONE!\n",
      "tamarzandberg DONE!\n",
      "yairlapid DONE!\n",
      "ayelet__shaked DONE!\n",
      "AvigdorLiberman DONE!\n",
      "regev_miri DONE!\n",
      "Orly_levy DONE!\n",
      "NitzanHorowitz DONE!\n",
      "netanyahu DONE!\n",
      "meravmichaelijs DONE!\n",
      "naftalibennett DONE!\n",
      "tamarzandberg DONE!\n",
      "yairlapid DONE!\n",
      "ayelet__shaked DONE!\n",
      "AvigdorLiberman DONE!\n",
      "regev_miri DONE!\n",
      "Orly_levy DONE!\n",
      "NitzanHorowitz DONE!\n",
      "netanyahu DONE!\n",
      "meravmichaelijs DONE!\n",
      "naftalibennett DONE!\n",
      "tamarzandberg DONE!\n",
      "yairlapid DONE!\n",
      "ayelet__shaked DONE!\n",
      "AvigdorLiberman DONE!\n",
      "regev_miri DONE!\n",
      "Orly_levy DONE!\n",
      "NitzanHorowitz DONE!\n",
      "netanyahu DONE!\n",
      "meravmichaelijs DONE!\n",
      "naftalibennett DONE!\n",
      "tamarzandberg DONE!\n",
      "yairlapid DONE!\n",
      "ayelet__shaked DONE!\n",
      "AvigdorLiberman DONE!\n",
      "regev_miri DONE!\n",
      "Orly_levy DONE!\n",
      "NitzanHorowitz DONE!\n",
      "netanyahu DONE!\n",
      "meravmichaelijs DONE!\n",
      "naftalibennett DONE!\n",
      "tamarzandberg DONE!\n",
      "yairlapid DONE!\n",
      "ayelet__shaked DONE!\n",
      "AvigdorLiberman DONE!\n",
      "regev_miri DONE!\n",
      "Orly_levy DONE!\n",
      "NitzanHorowitz DONE!\n",
      "netanyahu DONE!\n",
      "meravmichaelijs DONE!\n",
      "naftalibennett DONE!\n",
      "tamarzandberg DONE!\n",
      "yairlapid DONE!\n",
      "ayelet__shaked DONE!\n",
      "AvigdorLiberman DONE!\n",
      "regev_miri DONE!\n",
      "Orly_levy DONE!\n",
      "NitzanHorowitz DONE!\n"
     ]
    }
   ],
   "source": [
    "user_ids = [\"netanyahu\", \"meravmichaelijs\", \"naftalibennett\", \"tamarzandberg\", \"yairlapid\", \"ayelet__shaked\", \"AvigdorLiberman\", \"regev_miri\", \"Orly_levy\", \"NitzanHorowitz\"]\n",
    "data_per_user = dict()\n",
    "last_id_per_user = dict()\n",
    "for user_id in user_ids:\n",
    "    last_id_per_user[user_id] = 0\n",
    "    data_per_user[user_id] = []\n",
    "for user_id in user_ids:\n",
    "    tweets = api.user_timeline(screen_name=user_id, count=200,include_rts = False, exclude_replies=True, tweet_mode = 'extended')\n",
    "    last_id_per_user[user_id] = tweets[-1].id\n",
    "    pulled_data = [[tweet.id_str, tweet.created_at, tweet.favorite_count, tweet.retweet_count, tweet.full_text.encode(\"utf-8\").decode(\"utf-8\")] for idx,tweet in enumerate(tweets)]\n",
    "    data_per_user[user_id] = pulled_data\n",
    "\n",
    "\n",
    "    for user_id in user_ids:\n",
    "        while len(data_per_user[user_id]) < 100000:\n",
    "            tweets = api.user_timeline(screen_name=user_id, count=200, include_rts = False, exclude_replies=True, tweet_mode = 'extended', max_id = last_id_per_user[user_id] - 1)\n",
    "            pulled_data = [[tweet.id_str, tweet.created_at, tweet.favorite_count, tweet.retweet_count, tweet.full_text.encode(\"utf-8\").decode(\"utf-8\")] for idx,tweet in enumerate(tweets)]\n",
    "            data_per_user[user_id].extend(pulled_data)\n",
    "            if len(tweets) == 0:\n",
    "                break\n",
    "            last_id_per_user[user_id] = tweets[-1].id"
   ]
  },
  {
   "cell_type": "code",
   "execution_count": 24,
   "metadata": {
    "tags": []
   },
   "outputs": [],
   "source": [
    "for user_id in user_ids:\n",
    "    df = pd.DataFrame(data_per_user[user_id], columns=[\"id\",\"created_at\",\"favorite_count\",\"retweet_count\", \"text\"])\n",
    "    df.to_csv('%s_tweets.csv' % user_id,index=False)"
   ]
  },
  {
   "cell_type": "code",
   "execution_count": null,
   "metadata": {},
   "outputs": [],
   "source": []
  }
 ]
}
{
 "cells": [
  {
   "cell_type": "code",
   "execution_count": null,
   "id": "understood-familiar",
   "metadata": {},
   "outputs": [],
   "source": [
    "##################################################################\n",
    "#                            EX 1                                #\n",
    "#              Yanir Elfassy      308111830                      #\n",
    "#              Dana Perez         305382392                      #\n",
    "##################################################################"
   ]
  },
  {
   "cell_type": "code",
   "execution_count": 1,
   "id": "native-attraction",
   "metadata": {},
   "outputs": [],
   "source": [
    "import pandas as pd"
   ]
  },
  {
   "cell_type": "code",
   "execution_count": 2,
   "id": "mathematical-communications",
   "metadata": {},
   "outputs": [],
   "source": [
    "places = pd.read_csv(\"israel_places_latin_names.csv\")"
   ]
  },
  {
   "cell_type": "code",
   "execution_count": 3,
   "id": "frequent-imperial",
   "metadata": {},
   "outputs": [],
   "source": [
    "columns = ['question', 'frequency', 'name']\n",
    "\n",
    "def get_final_data_frame(counts, counts_name_key, question):\n",
    "    result =pd.DataFrame({'frequency': counts['counts'], 'name': counts[counts_name_key]})\n",
    "    result['question'] = question\n",
    "    result = result[columns]\n",
    "    return result"
   ]
  },
  {
   "cell_type": "code",
   "execution_count": 4,
   "id": "undefined-significance",
   "metadata": {},
   "outputs": [],
   "source": [
    "a_data = pd.DataFrame(places['district_name']).dropna()\n",
    "counts = a_data.value_counts().rename_axis('district').reset_index(name='counts')[0:5]\n",
    "a_result = get_final_data_frame(counts, 'district', 'a')"
   ]
  },
  {
   "cell_type": "code",
   "execution_count": 5,
   "id": "swedish-ranking",
   "metadata": {},
   "outputs": [],
   "source": [
    "b_data = pd.DataFrame(places['council_name']).dropna()\n",
    "counts = b_data.value_counts().rename_axis('council').reset_index(name='counts')[0:5]\n",
    "b_result = get_final_data_frame(counts, 'council', 'b')"
   ]
  },
  {
   "cell_type": "code",
   "execution_count": 6,
   "id": "artistic-indication",
   "metadata": {},
   "outputs": [
    {
     "name": "stderr",
     "output_type": "stream",
     "text": [
      "<ipython-input-6-3d58ce5e9af7>:13: FutureWarning: The default value of regex will change from True to False in a future version. In addition, single character regular expressions will*not* be treated as literal strings when regex=True.\n",
      "  allTokens['Tokens'] = allTokens['Tokens'].str.replace('(', '')\n",
      "<ipython-input-6-3d58ce5e9af7>:14: FutureWarning: The default value of regex will change from True to False in a future version. In addition, single character regular expressions will*not* be treated as literal strings when regex=True.\n",
      "  allTokens['Tokens'] = allTokens['Tokens'].str.replace(')', '')\n"
     ]
    }
   ],
   "source": [
    "# Extract tokens\n",
    "allTokens = places['settlement_name'].str.split(expand = True).rename(columns={0:'t1', 1:'t2', 2:'t3', 3: 't4'})\n",
    "allTokens = allTokens.iloc[1:]\n",
    "\n",
    "# Generate combined data\n",
    "t1_t2 = allTokens['t1'].append(allTokens['t2'], ignore_index = True)\n",
    "t3_t4 = allTokens['t3'].append(allTokens['t4'], ignore_index = True)\n",
    "t1_t2_t3_t4 = t1_t2.append(t3_t4)\n",
    "\n",
    "# Clear tokens\n",
    "allTokens = pd.DataFrame(t1_t2_t3_t4).rename(columns={0:'Tokens'})\n",
    "allTokens = allTokens[allTokens.Tokens.notnull()]\n",
    "allTokens['Tokens'] = allTokens['Tokens'].str.replace('(', '')\n",
    "allTokens['Tokens'] = allTokens['Tokens'].str.replace(')', '')\n",
    "\n",
    "# Count and get final result\n",
    "counts = allTokens.value_counts().rename_axis('token').reset_index(name='counts')[0:5]\n",
    "c_result = get_final_data_frame(counts, 'token', 'c')"
   ]
  },
  {
   "cell_type": "code",
   "execution_count": 7,
   "id": "front-prayer",
   "metadata": {},
   "outputs": [
    {
     "name": "stderr",
     "output_type": "stream",
     "text": [
      "<ipython-input-7-f8962191faca>:10: FutureWarning: The default value of regex will change from True to False in a future version. In addition, single character regular expressions will*not* be treated as literal strings when regex=True.\n",
      "  tokens['Tokens'] = tokens['Tokens'].str.replace('(', '')\n",
      "<ipython-input-7-f8962191faca>:11: FutureWarning: The default value of regex will change from True to False in a future version. In addition, single character regular expressions will*not* be treated as literal strings when regex=True.\n",
      "  tokens['Tokens'] = tokens['Tokens'].str.replace(')', '')\n"
     ]
    }
   ],
   "source": [
    "# Extract tokens\n",
    "beerShevaOnly = pd.DataFrame(places[places['district_name'] == 'באר שבע'].settlement_name)\n",
    "tokens = beerShevaOnly['settlement_name'].str.split(expand = True).rename(columns={0:'t1', 1:'t2', 2:'t3'})\n",
    "\n",
    "# Generate combined data\n",
    "tokens = pd.DataFrame(tokens.t1.append(tokens.t2.append(tokens.t3, ignore_index=True), ignore_index = True)).rename(columns={0:'Tokens'})\n",
    "\n",
    "# Clear tokens\n",
    "tokens = tokens[tokens.Tokens.notnull()]\n",
    "tokens['Tokens'] = tokens['Tokens'].str.replace('(', '')\n",
    "tokens['Tokens'] = tokens['Tokens'].str.replace(')', '')\n",
    "\n",
    "# Count and get final result\n",
    "counts = tokens.value_counts().rename_axis('token').reset_index(name='counts')[0:5]\n",
    "d_result = get_final_data_frame(counts, 'token', 'd')"
   ]
  },
  {
   "cell_type": "code",
   "execution_count": 9,
   "id": "forced-worse",
   "metadata": {},
   "outputs": [],
   "source": [
    "all_answers = pd.concat([a_result, b_result, c_result, d_result])\n",
    "all_answers.to_csv('./settlement_summaries.csv', index=False, encoding=\"utf-8-sig\")"
   ]
  },
  {
   "cell_type": "code",
   "execution_count": null,
   "id": "incorrect-ghana",
   "metadata": {},
   "outputs": [],
   "source": []
  }
 ],
 "metadata": {
  "kernelspec": {
   "display_name": "hebnlp",
   "language": "python",
   "name": "hebnlp"
  },
  "language_info": {
   "codemirror_mode": {
    "name": "ipython",
    "version": 3
   },
   "file_extension": ".py",
   "mimetype": "text/x-python",
   "name": "python",
   "nbconvert_exporter": "python",
   "pygments_lexer": "ipython3",
   "version": "3.9.2"
  }
 },
 "nbformat": 4,
 "nbformat_minor": 5
}
